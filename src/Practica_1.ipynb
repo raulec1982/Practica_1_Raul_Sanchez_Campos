{
  "nbformat": 4,
  "nbformat_minor": 0,
  "metadata": {
    "colab": {
      "name": "Practica 1.ipynb",
      "provenance": [],
      "collapsed_sections": [],
      "toc_visible": true
    },
    "kernelspec": {
      "display_name": "Python 3",
      "name": "python3"
    },
    "language_info": {
      "name": "python"
    }
  },
  "cells": [
    {
      "cell_type": "code",
      "metadata": {
        "id": "SHR2uKh4TOza"
      },
      "source": [
        "!pip install scrapy"
      ],
      "execution_count": null,
      "outputs": []
    },
    {
      "cell_type": "code",
      "metadata": {
        "id": "pyMSmLzJ0pSO"
      },
      "source": [
        "\"\"\"\n",
        "OBJETIVO: \n",
        "  - Extraer las estadísticas a nivel mundial del covid-19\n",
        "  - Practica 1 Web scraping\n",
        "CREADO POR: Raúl Sánchez Campos, Pablo Santos Ramos\n",
        "ULTIMA VEZ EDITADO: 24 MARZO 2021\n",
        "\"\"\""
      ],
      "execution_count": null,
      "outputs": []
    },
    {
      "cell_type": "code",
      "metadata": {
        "id": "6IXxnOEUTWpY"
      },
      "source": [
        "from scrapy.spiders import Spider\n",
        "from scrapy.selector import Selector\n",
        "from scrapy.loader.processors import MapCompose\n",
        "from scrapy.crawler import CrawlerProcess"
      ],
      "execution_count": null,
      "outputs": []
    },
    {
      "cell_type": "code",
      "metadata": {
        "id": "Of-HleOrUbhr"
      },
      "source": [
        "# CLASE CORE - SPIDER  \n",
        "class EstadisticaCovidSpider(Spider):\n",
        "  name = \"EstadisticaCovidSpider\"\n",
        "  custom_settings = {\n",
        "      'USER_AGENT': 'Mozilla/5.0 (X11; Linux x86_64) AppleWebKit/537.36 (KHTML, like Gecko) Ubuntu Chromium/71.0.3578.80 Chrome/71.0.3578.80 Safari/537.36',\n",
        "  }\n",
        "  start_urls = ['https://cambiopolitico.com/estadisticas-covid-19']\n",
        "\n",
        "  def parse(self, response):\n",
        "        sel = Selector(response)\n",
        "        table = sel.xpath('//*[@id=\"wpcv-table-3\"]//table//tbody//tr')\n",
        "        for row in table: \n",
        "            yield {\n",
        "                'Pais' : row.xpath('td[1]//text()').extract_first(),\n",
        "                'Total de casos': row.xpath('td[2]//text()').extract_first(),\n",
        "                'Casos nuevos' : row.xpath('td[3]//text()').extract_first(),\n",
        "                'Total de muertes' : row.xpath('td[4]//text()').extract_first(),\n",
        "                'Muertes nuevas' : row.xpath('td[5]//text()').extract_first(),\n",
        "                'Recuperados' : row.xpath('td[6]//text()').extract_first(),\n",
        "                'Casos activos' : row.xpath('td[7]//text()').extract_first(),\n",
        "                'Casos criticos' : row.xpath('td[8]//text()').extract_first(),\n",
        "            }\n",
        "       "
      ],
      "execution_count": null,
      "outputs": []
    },
    {
      "cell_type": "code",
      "metadata": {
        "id": "1Mz-wHU2WYSb"
      },
      "source": [
        "process = CrawlerProcess({\n",
        "    'FEED_FORMAT': 'csv',\n",
        "    'FEED_URI': 'estadísticas_a_nivel_mundial_covid_19.csv'\n",
        "})\n",
        "process.crawl(EstadisticaCovidSpider)\n",
        "process.start()"
      ],
      "execution_count": null,
      "outputs": []
    },
    {
      "cell_type": "code",
      "metadata": {
        "colab": {
          "background_save": true
        },
        "id": "sYXRaz82WkmS"
      },
      "source": [
        "import pandas as pd\n",
        "import numpy as np\n",
        "import matplotlib.pyplot as plt\n",
        "import seaborn as sns\n",
        "%matplotlib inline"
      ],
      "execution_count": null,
      "outputs": []
    },
    {
      "cell_type": "code",
      "metadata": {
        "id": "w0ps6uE1d-S3"
      },
      "source": [
        "df = pd.read_csv('estadísticas_a_nivel_mundial_covid_19.csv', encoding = 'utf8')"
      ],
      "execution_count": null,
      "outputs": []
    },
    {
      "cell_type": "code",
      "metadata": {
        "colab": {
          "base_uri": "https://localhost:8080/",
          "height": 221
        },
        "id": "oSmxsBy3ejkW",
        "outputId": "0d05502e-78d7-46cb-b61c-92952959767f"
      },
      "source": [
        "df.head(5)"
      ],
      "execution_count": null,
      "outputs": [
        {
          "output_type": "execute_result",
          "data": {
            "text/html": [
              "<div>\n",
              "<style scoped>\n",
              "    .dataframe tbody tr th:only-of-type {\n",
              "        vertical-align: middle;\n",
              "    }\n",
              "\n",
              "    .dataframe tbody tr th {\n",
              "        vertical-align: top;\n",
              "    }\n",
              "\n",
              "    .dataframe thead th {\n",
              "        text-align: right;\n",
              "    }\n",
              "</style>\n",
              "<table border=\"1\" class=\"dataframe\">\n",
              "  <thead>\n",
              "    <tr style=\"text-align: right;\">\n",
              "      <th></th>\n",
              "      <th>Pais</th>\n",
              "      <th>Total de casos</th>\n",
              "      <th>Casos nuevos</th>\n",
              "      <th>Total de muertes</th>\n",
              "      <th>Muertes nuevas</th>\n",
              "      <th>Recuperados</th>\n",
              "      <th>Casos activos</th>\n",
              "      <th>Casos criticos</th>\n",
              "    </tr>\n",
              "  </thead>\n",
              "  <tbody>\n",
              "    <tr>\n",
              "      <th>0</th>\n",
              "      <td>USA</td>\n",
              "      <td>31,802,772</td>\n",
              "      <td>-</td>\n",
              "      <td>574,840</td>\n",
              "      <td>-</td>\n",
              "      <td>24,346,766</td>\n",
              "      <td>6,881,166</td>\n",
              "      <td>9,078</td>\n",
              "    </tr>\n",
              "    <tr>\n",
              "      <th>1</th>\n",
              "      <td>Brasil</td>\n",
              "      <td>13,375,414</td>\n",
              "      <td>-</td>\n",
              "      <td>348,934</td>\n",
              "      <td>-</td>\n",
              "      <td>11,791,885</td>\n",
              "      <td>1,234,595</td>\n",
              "      <td>8,318</td>\n",
              "    </tr>\n",
              "    <tr>\n",
              "      <th>2</th>\n",
              "      <td>India</td>\n",
              "      <td>13,205,926</td>\n",
              "      <td>3,143</td>\n",
              "      <td>168,467</td>\n",
              "      <td>-</td>\n",
              "      <td>11,990,859</td>\n",
              "      <td>1,046,600</td>\n",
              "      <td>8,944</td>\n",
              "    </tr>\n",
              "    <tr>\n",
              "      <th>3</th>\n",
              "      <td>Francia</td>\n",
              "      <td>4,980,501</td>\n",
              "      <td>-</td>\n",
              "      <td>98,395</td>\n",
              "      <td>-</td>\n",
              "      <td>303,639</td>\n",
              "      <td>4,578,467</td>\n",
              "      <td>5,729</td>\n",
              "    </tr>\n",
              "    <tr>\n",
              "      <th>4</th>\n",
              "      <td>Rusia</td>\n",
              "      <td>4,632,688</td>\n",
              "      <td>8,704</td>\n",
              "      <td>102,649</td>\n",
              "      <td>402</td>\n",
              "      <td>4,258,279</td>\n",
              "      <td>271,760</td>\n",
              "      <td>2,300</td>\n",
              "    </tr>\n",
              "  </tbody>\n",
              "</table>\n",
              "</div>"
            ],
            "text/plain": [
              "       Pais Total de casos  ... Casos activos Casos criticos\n",
              "0       USA     31,802,772  ...     6,881,166          9,078\n",
              "1    Brasil     13,375,414  ...     1,234,595          8,318\n",
              "2     India     13,205,926  ...     1,046,600          8,944\n",
              "3   Francia      4,980,501  ...     4,578,467          5,729\n",
              "4     Rusia      4,632,688  ...       271,760          2,300\n",
              "\n",
              "[5 rows x 8 columns]"
            ]
          },
          "metadata": {
            "tags": []
          },
          "execution_count": 8
        }
      ]
    },
    {
      "cell_type": "code",
      "metadata": {
        "id": "bIwluGmrrdS2"
      },
      "source": [
        "df.loc[df['Casos nuevos'] == '-', 'Casos nuevos'] = \"0\"\n",
        "df.loc[df['Muertes nuevas'] == '-', 'Muertes nuevas'] = \"0\"\n",
        "df.loc[df['Total de muertes'] == '-', 'Total de muertes'] = \"0\"\n",
        "df.loc[df['Muertes nuevas'] == '-', 'Muertes nuevas'] = \"0\"\n",
        "df.loc[df['Recuperados'] == '-', 'Recuperados'] = \"0\"\n",
        "df.loc[df['Casos activos'] == '-', 'Casos activos'] = \"0\"\n",
        "df.loc[df['Casos criticos'] == '-', 'Casos criticos'] = \"0\""
      ],
      "execution_count": null,
      "outputs": []
    },
    {
      "cell_type": "code",
      "metadata": {
        "id": "xWxlIkjWsHqE"
      },
      "source": [
        "df[\"Total de casos\"] = df[\"Total de casos\"].str.replace(\",\", \"\").astype(float)\n",
        "df[\"Casos nuevos\"] = df[\"Casos nuevos\"].str.replace(\",\", \"\").astype(float)\n",
        "df[\"Total de muertes\"] = df[\"Total de muertes\"].str.replace(\",\", \"\").astype(float)\n",
        "df[\"Muertes nuevas\"] = df[\"Muertes nuevas\"].str.replace(\",\", \"\").astype(float)\n",
        "df[\"Recuperados\"] = df[\"Recuperados\"].str.replace(\",\", \"\").astype(float)\n",
        "df[\"Casos activos\"] = df[\"Casos activos\"].str.replace(\",\", \"\").astype(float)\n",
        "df[\"Casos criticos\"] = df[\"Casos criticos\"].str.replace(\",\", \"\").astype(float)"
      ],
      "execution_count": null,
      "outputs": []
    },
    {
      "cell_type": "code",
      "metadata": {
        "colab": {
          "base_uri": "https://localhost:8080/"
        },
        "id": "4D4-Ke2XtNeV",
        "outputId": "6a6bddc2-c719-4cf3-bde6-593c3ea11372"
      },
      "source": [
        "df.dtypes"
      ],
      "execution_count": null,
      "outputs": [
        {
          "output_type": "execute_result",
          "data": {
            "text/plain": [
              "Pais                 object\n",
              "Total de casos      float64\n",
              "Casos nuevos        float64\n",
              "Total de muertes    float64\n",
              "Muertes nuevas      float64\n",
              "Recuperados         float64\n",
              "Casos activos       float64\n",
              "Casos criticos      float64\n",
              "dtype: object"
            ]
          },
          "metadata": {
            "tags": []
          },
          "execution_count": 11
        }
      ]
    },
    {
      "cell_type": "code",
      "metadata": {
        "colab": {
          "base_uri": "https://localhost:8080/",
          "height": 221
        },
        "id": "lnP7NXVBPBM-",
        "outputId": "4985ce2e-f6aa-4103-cb96-3915d33c1267"
      },
      "source": [
        "df.head()"
      ],
      "execution_count": null,
      "outputs": [
        {
          "output_type": "execute_result",
          "data": {
            "text/html": [
              "<div>\n",
              "<style scoped>\n",
              "    .dataframe tbody tr th:only-of-type {\n",
              "        vertical-align: middle;\n",
              "    }\n",
              "\n",
              "    .dataframe tbody tr th {\n",
              "        vertical-align: top;\n",
              "    }\n",
              "\n",
              "    .dataframe thead th {\n",
              "        text-align: right;\n",
              "    }\n",
              "</style>\n",
              "<table border=\"1\" class=\"dataframe\">\n",
              "  <thead>\n",
              "    <tr style=\"text-align: right;\">\n",
              "      <th></th>\n",
              "      <th>Pais</th>\n",
              "      <th>Total de casos</th>\n",
              "      <th>Casos nuevos</th>\n",
              "      <th>Total de muertes</th>\n",
              "      <th>Muertes nuevas</th>\n",
              "      <th>Recuperados</th>\n",
              "      <th>Casos activos</th>\n",
              "      <th>Casos criticos</th>\n",
              "    </tr>\n",
              "  </thead>\n",
              "  <tbody>\n",
              "    <tr>\n",
              "      <th>0</th>\n",
              "      <td>USA</td>\n",
              "      <td>31802772.0</td>\n",
              "      <td>0.0</td>\n",
              "      <td>574840.0</td>\n",
              "      <td>0.0</td>\n",
              "      <td>24346766.0</td>\n",
              "      <td>6881166.0</td>\n",
              "      <td>9078.0</td>\n",
              "    </tr>\n",
              "    <tr>\n",
              "      <th>1</th>\n",
              "      <td>Brasil</td>\n",
              "      <td>13375414.0</td>\n",
              "      <td>0.0</td>\n",
              "      <td>348934.0</td>\n",
              "      <td>0.0</td>\n",
              "      <td>11791885.0</td>\n",
              "      <td>1234595.0</td>\n",
              "      <td>8318.0</td>\n",
              "    </tr>\n",
              "    <tr>\n",
              "      <th>2</th>\n",
              "      <td>India</td>\n",
              "      <td>13205926.0</td>\n",
              "      <td>3143.0</td>\n",
              "      <td>168467.0</td>\n",
              "      <td>0.0</td>\n",
              "      <td>11990859.0</td>\n",
              "      <td>1046600.0</td>\n",
              "      <td>8944.0</td>\n",
              "    </tr>\n",
              "    <tr>\n",
              "      <th>3</th>\n",
              "      <td>Francia</td>\n",
              "      <td>4980501.0</td>\n",
              "      <td>0.0</td>\n",
              "      <td>98395.0</td>\n",
              "      <td>0.0</td>\n",
              "      <td>303639.0</td>\n",
              "      <td>4578467.0</td>\n",
              "      <td>5729.0</td>\n",
              "    </tr>\n",
              "    <tr>\n",
              "      <th>4</th>\n",
              "      <td>Rusia</td>\n",
              "      <td>4632688.0</td>\n",
              "      <td>8704.0</td>\n",
              "      <td>102649.0</td>\n",
              "      <td>402.0</td>\n",
              "      <td>4258279.0</td>\n",
              "      <td>271760.0</td>\n",
              "      <td>2300.0</td>\n",
              "    </tr>\n",
              "  </tbody>\n",
              "</table>\n",
              "</div>"
            ],
            "text/plain": [
              "       Pais  Total de casos  ...  Casos activos  Casos criticos\n",
              "0       USA      31802772.0  ...      6881166.0          9078.0\n",
              "1    Brasil      13375414.0  ...      1234595.0          8318.0\n",
              "2     India      13205926.0  ...      1046600.0          8944.0\n",
              "3   Francia       4980501.0  ...      4578467.0          5729.0\n",
              "4     Rusia       4632688.0  ...       271760.0          2300.0\n",
              "\n",
              "[5 rows x 8 columns]"
            ]
          },
          "metadata": {
            "tags": []
          },
          "execution_count": 12
        }
      ]
    },
    {
      "cell_type": "code",
      "metadata": {
        "colab": {
          "base_uri": "https://localhost:8080/",
          "height": 314
        },
        "id": "SPXqOgw5UmZe",
        "outputId": "f4f67b84-b27b-4b9d-f9b6-4e1fd7433734"
      },
      "source": [
        "df.describe()"
      ],
      "execution_count": null,
      "outputs": [
        {
          "output_type": "execute_result",
          "data": {
            "text/html": [
              "<div>\n",
              "<style scoped>\n",
              "    .dataframe tbody tr th:only-of-type {\n",
              "        vertical-align: middle;\n",
              "    }\n",
              "\n",
              "    .dataframe tbody tr th {\n",
              "        vertical-align: top;\n",
              "    }\n",
              "\n",
              "    .dataframe thead th {\n",
              "        text-align: right;\n",
              "    }\n",
              "</style>\n",
              "<table border=\"1\" class=\"dataframe\">\n",
              "  <thead>\n",
              "    <tr style=\"text-align: right;\">\n",
              "      <th></th>\n",
              "      <th>Total de casos</th>\n",
              "      <th>Casos nuevos</th>\n",
              "      <th>Total de muertes</th>\n",
              "      <th>Muertes nuevas</th>\n",
              "      <th>Recuperados</th>\n",
              "      <th>Casos activos</th>\n",
              "      <th>Casos criticos</th>\n",
              "    </tr>\n",
              "  </thead>\n",
              "  <tbody>\n",
              "    <tr>\n",
              "      <th>count</th>\n",
              "      <td>2.210000e+02</td>\n",
              "      <td>221.000000</td>\n",
              "      <td>221.000000</td>\n",
              "      <td>221.00000</td>\n",
              "      <td>2.210000e+02</td>\n",
              "      <td>2.210000e+02</td>\n",
              "      <td>221.000000</td>\n",
              "    </tr>\n",
              "    <tr>\n",
              "      <th>mean</th>\n",
              "      <td>6.129061e+05</td>\n",
              "      <td>733.484163</td>\n",
              "      <td>13265.923077</td>\n",
              "      <td>18.18552</td>\n",
              "      <td>4.930962e+05</td>\n",
              "      <td>1.065440e+05</td>\n",
              "      <td>462.203620</td>\n",
              "    </tr>\n",
              "    <tr>\n",
              "      <th>std</th>\n",
              "      <td>2.570109e+06</td>\n",
              "      <td>2797.633410</td>\n",
              "      <td>51268.950158</td>\n",
              "      <td>90.02791</td>\n",
              "      <td>2.061155e+06</td>\n",
              "      <td>5.763543e+05</td>\n",
              "      <td>1333.035214</td>\n",
              "    </tr>\n",
              "    <tr>\n",
              "      <th>min</th>\n",
              "      <td>1.000000e+00</td>\n",
              "      <td>0.000000</td>\n",
              "      <td>0.000000</td>\n",
              "      <td>0.00000</td>\n",
              "      <td>0.000000e+00</td>\n",
              "      <td>0.000000e+00</td>\n",
              "      <td>0.000000</td>\n",
              "    </tr>\n",
              "    <tr>\n",
              "      <th>25%</th>\n",
              "      <td>4.329000e+03</td>\n",
              "      <td>0.000000</td>\n",
              "      <td>64.000000</td>\n",
              "      <td>0.00000</td>\n",
              "      <td>2.964000e+03</td>\n",
              "      <td>2.480000e+02</td>\n",
              "      <td>0.000000</td>\n",
              "    </tr>\n",
              "    <tr>\n",
              "      <th>50%</th>\n",
              "      <td>3.714700e+04</td>\n",
              "      <td>0.000000</td>\n",
              "      <td>595.000000</td>\n",
              "      <td>0.00000</td>\n",
              "      <td>2.635200e+04</td>\n",
              "      <td>3.400000e+03</td>\n",
              "      <td>12.000000</td>\n",
              "    </tr>\n",
              "    <tr>\n",
              "      <th>75%</th>\n",
              "      <td>2.666770e+05</td>\n",
              "      <td>16.000000</td>\n",
              "      <td>4698.000000</td>\n",
              "      <td>0.00000</td>\n",
              "      <td>2.233910e+05</td>\n",
              "      <td>2.803200e+04</td>\n",
              "      <td>199.000000</td>\n",
              "    </tr>\n",
              "    <tr>\n",
              "      <th>max</th>\n",
              "      <td>3.180277e+07</td>\n",
              "      <td>24856.000000</td>\n",
              "      <td>574840.000000</td>\n",
              "      <td>874.00000</td>\n",
              "      <td>2.434677e+07</td>\n",
              "      <td>6.881166e+06</td>\n",
              "      <td>9078.000000</td>\n",
              "    </tr>\n",
              "  </tbody>\n",
              "</table>\n",
              "</div>"
            ],
            "text/plain": [
              "       Total de casos  Casos nuevos  ...  Casos activos  Casos criticos\n",
              "count    2.210000e+02    221.000000  ...   2.210000e+02      221.000000\n",
              "mean     6.129061e+05    733.484163  ...   1.065440e+05      462.203620\n",
              "std      2.570109e+06   2797.633410  ...   5.763543e+05     1333.035214\n",
              "min      1.000000e+00      0.000000  ...   0.000000e+00        0.000000\n",
              "25%      4.329000e+03      0.000000  ...   2.480000e+02        0.000000\n",
              "50%      3.714700e+04      0.000000  ...   3.400000e+03       12.000000\n",
              "75%      2.666770e+05     16.000000  ...   2.803200e+04      199.000000\n",
              "max      3.180277e+07  24856.000000  ...   6.881166e+06     9078.000000\n",
              "\n",
              "[8 rows x 7 columns]"
            ]
          },
          "metadata": {
            "tags": []
          },
          "execution_count": 13
        }
      ]
    },
    {
      "cell_type": "markdown",
      "metadata": {
        "id": "A2IJlDNIlzO5"
      },
      "source": [
        "### Evaluación de datos faltantes"
      ]
    },
    {
      "cell_type": "markdown",
      "metadata": {
        "id": "mOFfTp1WnjV3"
      },
      "source": [
        "Los valores faltantes se convierten al valor predeterminado de Python. Utilizamos las funciones integradas de Python para identificar estos valores faltantes. Hay dos métodos para detectar datos faltantes:\n",
        "* .isnull()\n",
        "* .notnull()\n",
        "\n",
        "La salida es un valor booleano que indica si el valor que se pasa al argumento es de hecho datos faltantes."
      ]
    },
    {
      "cell_type": "code",
      "metadata": {
        "id": "JThIKNH5kDg2"
      },
      "source": [
        "missing_data = df.isnull()"
      ],
      "execution_count": null,
      "outputs": []
    },
    {
      "cell_type": "markdown",
      "metadata": {
        "id": "mzy-_B_PoNpd"
      },
      "source": [
        "\"Verdadero\" significa valor perdido, mientras que \"Falso\" significa valor no perdido"
      ]
    },
    {
      "cell_type": "code",
      "metadata": {
        "colab": {
          "base_uri": "https://localhost:8080/",
          "height": 204
        },
        "id": "w6bvjb1Unu-e",
        "outputId": "a0a03255-1522-4677-8206-24fb68a43663"
      },
      "source": [
        "missing_data.head()"
      ],
      "execution_count": null,
      "outputs": [
        {
          "output_type": "execute_result",
          "data": {
            "text/html": [
              "<div>\n",
              "<style scoped>\n",
              "    .dataframe tbody tr th:only-of-type {\n",
              "        vertical-align: middle;\n",
              "    }\n",
              "\n",
              "    .dataframe tbody tr th {\n",
              "        vertical-align: top;\n",
              "    }\n",
              "\n",
              "    .dataframe thead th {\n",
              "        text-align: right;\n",
              "    }\n",
              "</style>\n",
              "<table border=\"1\" class=\"dataframe\">\n",
              "  <thead>\n",
              "    <tr style=\"text-align: right;\">\n",
              "      <th></th>\n",
              "      <th>Pais</th>\n",
              "      <th>Total de casos</th>\n",
              "      <th>Casos nuevos</th>\n",
              "      <th>Total de muertes</th>\n",
              "      <th>Muertes nuevas</th>\n",
              "      <th>Recuperados</th>\n",
              "      <th>Casos activos</th>\n",
              "      <th>Casos criticos</th>\n",
              "    </tr>\n",
              "  </thead>\n",
              "  <tbody>\n",
              "    <tr>\n",
              "      <th>0</th>\n",
              "      <td>False</td>\n",
              "      <td>False</td>\n",
              "      <td>False</td>\n",
              "      <td>False</td>\n",
              "      <td>False</td>\n",
              "      <td>False</td>\n",
              "      <td>False</td>\n",
              "      <td>False</td>\n",
              "    </tr>\n",
              "    <tr>\n",
              "      <th>1</th>\n",
              "      <td>False</td>\n",
              "      <td>False</td>\n",
              "      <td>False</td>\n",
              "      <td>False</td>\n",
              "      <td>False</td>\n",
              "      <td>False</td>\n",
              "      <td>False</td>\n",
              "      <td>False</td>\n",
              "    </tr>\n",
              "    <tr>\n",
              "      <th>2</th>\n",
              "      <td>False</td>\n",
              "      <td>False</td>\n",
              "      <td>False</td>\n",
              "      <td>False</td>\n",
              "      <td>False</td>\n",
              "      <td>False</td>\n",
              "      <td>False</td>\n",
              "      <td>False</td>\n",
              "    </tr>\n",
              "    <tr>\n",
              "      <th>3</th>\n",
              "      <td>False</td>\n",
              "      <td>False</td>\n",
              "      <td>False</td>\n",
              "      <td>False</td>\n",
              "      <td>False</td>\n",
              "      <td>False</td>\n",
              "      <td>False</td>\n",
              "      <td>False</td>\n",
              "    </tr>\n",
              "    <tr>\n",
              "      <th>4</th>\n",
              "      <td>False</td>\n",
              "      <td>False</td>\n",
              "      <td>False</td>\n",
              "      <td>False</td>\n",
              "      <td>False</td>\n",
              "      <td>False</td>\n",
              "      <td>False</td>\n",
              "      <td>False</td>\n",
              "    </tr>\n",
              "  </tbody>\n",
              "</table>\n",
              "</div>"
            ],
            "text/plain": [
              "    Pais  Total de casos  ...  Casos activos  Casos criticos\n",
              "0  False           False  ...          False           False\n",
              "1  False           False  ...          False           False\n",
              "2  False           False  ...          False           False\n",
              "3  False           False  ...          False           False\n",
              "4  False           False  ...          False           False\n",
              "\n",
              "[5 rows x 8 columns]"
            ]
          },
          "metadata": {
            "tags": []
          },
          "execution_count": 12
        }
      ]
    },
    {
      "cell_type": "markdown",
      "metadata": {
        "id": "0fm3uv32n5oN"
      },
      "source": [
        "### Cantidad de valores faltantes por columna"
      ]
    },
    {
      "cell_type": "code",
      "metadata": {
        "colab": {
          "base_uri": "https://localhost:8080/"
        },
        "id": "KoWS7LJzksJo",
        "outputId": "6d4fa5b3-269e-4d89-ca2d-09edae0a9af3"
      },
      "source": [
        "for column in missing_data.columns.values.tolist():\n",
        "    print(column)\n",
        "    print (missing_data[column].value_counts())\n",
        "    print(\"\") "
      ],
      "execution_count": null,
      "outputs": [
        {
          "output_type": "stream",
          "text": [
            "Pais\n",
            "False    221\n",
            "Name: Pais, dtype: int64\n",
            "\n",
            "Total de casos\n",
            "False    221\n",
            "Name: Total de casos, dtype: int64\n",
            "\n",
            "Casos nuevos\n",
            "False    221\n",
            "Name: Casos nuevos, dtype: int64\n",
            "\n",
            "Total de muertes\n",
            "False    221\n",
            "Name: Total de muertes, dtype: int64\n",
            "\n",
            "Muertes nuevas\n",
            "False    221\n",
            "Name: Muertes nuevas, dtype: int64\n",
            "\n",
            "Recuperados\n",
            "False    221\n",
            "Name: Recuperados, dtype: int64\n",
            "\n",
            "Casos activos\n",
            "False    221\n",
            "Name: Casos activos, dtype: int64\n",
            "\n",
            "Casos criticos\n",
            "False    221\n",
            "Name: Casos criticos, dtype: int64\n",
            "\n"
          ],
          "name": "stdout"
        }
      ]
    },
    {
      "cell_type": "code",
      "metadata": {
        "colab": {
          "base_uri": "https://localhost:8080/",
          "height": 204
        },
        "id": "GRZVwCtckukS",
        "outputId": "3494cb71-2ff7-43d8-c920-ede1f29b9f42"
      },
      "source": [
        "df.head(5)"
      ],
      "execution_count": null,
      "outputs": [
        {
          "output_type": "execute_result",
          "data": {
            "text/html": [
              "<div>\n",
              "<style scoped>\n",
              "    .dataframe tbody tr th:only-of-type {\n",
              "        vertical-align: middle;\n",
              "    }\n",
              "\n",
              "    .dataframe tbody tr th {\n",
              "        vertical-align: top;\n",
              "    }\n",
              "\n",
              "    .dataframe thead th {\n",
              "        text-align: right;\n",
              "    }\n",
              "</style>\n",
              "<table border=\"1\" class=\"dataframe\">\n",
              "  <thead>\n",
              "    <tr style=\"text-align: right;\">\n",
              "      <th></th>\n",
              "      <th>Pais</th>\n",
              "      <th>Total de casos</th>\n",
              "      <th>Casos nuevos</th>\n",
              "      <th>Total de muertes</th>\n",
              "      <th>Muertes nuevas</th>\n",
              "      <th>Recuperados</th>\n",
              "      <th>Casos activos</th>\n",
              "      <th>Casos criticos</th>\n",
              "    </tr>\n",
              "  </thead>\n",
              "  <tbody>\n",
              "    <tr>\n",
              "      <th>0</th>\n",
              "      <td>USA</td>\n",
              "      <td>31496976.0</td>\n",
              "      <td>0.0</td>\n",
              "      <td>569282.0</td>\n",
              "      <td>0.0</td>\n",
              "      <td>24058562.0</td>\n",
              "      <td>6869132.0</td>\n",
              "      <td>8767.0</td>\n",
              "    </tr>\n",
              "    <tr>\n",
              "      <th>1</th>\n",
              "      <td>Brasil</td>\n",
              "      <td>13023189.0</td>\n",
              "      <td>0.0</td>\n",
              "      <td>333153.0</td>\n",
              "      <td>0.0</td>\n",
              "      <td>11436189.0</td>\n",
              "      <td>1253847.0</td>\n",
              "      <td>8318.0</td>\n",
              "    </tr>\n",
              "    <tr>\n",
              "      <th>2</th>\n",
              "      <td>India</td>\n",
              "      <td>12686049.0</td>\n",
              "      <td>1572.0</td>\n",
              "      <td>165577.0</td>\n",
              "      <td>0.0</td>\n",
              "      <td>11732279.0</td>\n",
              "      <td>788193.0</td>\n",
              "      <td>8944.0</td>\n",
              "    </tr>\n",
              "    <tr>\n",
              "      <th>3</th>\n",
              "      <td>Francia</td>\n",
              "      <td>4833263.0</td>\n",
              "      <td>0.0</td>\n",
              "      <td>96875.0</td>\n",
              "      <td>0.0</td>\n",
              "      <td>300064.0</td>\n",
              "      <td>4436324.0</td>\n",
              "      <td>5433.0</td>\n",
              "    </tr>\n",
              "    <tr>\n",
              "      <th>4</th>\n",
              "      <td>Rusia</td>\n",
              "      <td>4597868.0</td>\n",
              "      <td>8328.0</td>\n",
              "      <td>101106.0</td>\n",
              "      <td>389.0</td>\n",
              "      <td>4220035.0</td>\n",
              "      <td>276727.0</td>\n",
              "      <td>2300.0</td>\n",
              "    </tr>\n",
              "  </tbody>\n",
              "</table>\n",
              "</div>"
            ],
            "text/plain": [
              "       Pais  Total de casos  ...  Casos activos  Casos criticos\n",
              "0       USA      31496976.0  ...      6869132.0          8767.0\n",
              "1    Brasil      13023189.0  ...      1253847.0          8318.0\n",
              "2     India      12686049.0  ...       788193.0          8944.0\n",
              "3   Francia       4833263.0  ...      4436324.0          5433.0\n",
              "4     Rusia       4597868.0  ...       276727.0          2300.0\n",
              "\n",
              "[5 rows x 8 columns]"
            ]
          },
          "metadata": {
            "tags": []
          },
          "execution_count": 14
        }
      ]
    },
    {
      "cell_type": "markdown",
      "metadata": {
        "id": "rMd5jj-J8YiU"
      },
      "source": [
        "### Visualización y análisis descriptivo de datos"
      ]
    },
    {
      "cell_type": "markdown",
      "metadata": {
        "id": "4Ucvb5u4xHFo"
      },
      "source": [
        "Países con mayor número de casos"
      ]
    },
    {
      "cell_type": "code",
      "metadata": {
        "colab": {
          "base_uri": "https://localhost:8080/",
          "height": 295
        },
        "id": "LfJruvH7wjsk",
        "outputId": "97b073fe-c7c3-401b-a58a-76a8e76f413e"
      },
      "source": [
        "fig, ax = plt.subplots()\n",
        "ax.set_title(\"Países con mayor número de casos\")\n",
        "sns.barplot(x = 'Total de casos',\n",
        "            y = 'Pais',\n",
        "            orient = 'h',\n",
        "            data = df.sort_values(by=['Total de casos'], ascending=False).head(5))\n",
        "plt.show()"
      ],
      "execution_count": null,
      "outputs": [
        {
          "output_type": "display_data",
          "data": {
            "image/png": "[encoded data removed]",
            "text/plain": [
              "<Figure size 432x288 with 1 Axes>"
            ]
          },
          "metadata": {
            "tags": []
          }
        }
      ]
    },
    {
      "cell_type": "markdown",
      "metadata": {
        "id": "Z4k-Ru5B9EDC"
      },
      "source": [
        "Países con mayor número de casos nuevos"
      ]
    },
    {
      "cell_type": "code",
      "metadata": {
        "colab": {
          "base_uri": "https://localhost:8080/",
          "height": 295
        },
        "id": "dyctk2Qd_bOz",
        "outputId": "01440f6d-f207-44e2-8e7f-1068d1c5a179"
      },
      "source": [
        "fig, ax = plt.subplots()\n",
        "ax.set_title(\"Países con mayor número de casos nuevo\")\n",
        "sns.barplot(x = 'Casos nuevos',\n",
        "            y = 'Pais',\n",
        "            orient = 'h',\n",
        "            data = df.sort_values(by=['Casos nuevos'], ascending=False).head(5))\n",
        "plt.show()"
      ],
      "execution_count": null,
      "outputs": [
        {
          "output_type": "display_data",
          "data": {
            "image/png": "[encoded data removed]",
            "text/plain": [
              "<Figure size 432x288 with 1 Axes>"
            ]
          },
          "metadata": {
            "tags": []
          }
        }
      ]
    },
    {
      "cell_type": "markdown",
      "metadata": {
        "id": "4r44RGRf9LMS"
      },
      "source": [
        "Países con mayor número de número de muertes"
      ]
    },
    {
      "cell_type": "code",
      "metadata": {
        "colab": {
          "base_uri": "https://localhost:8080/",
          "height": 295
        },
        "id": "SiIicP4xygEv",
        "outputId": "5642b2d4-e63c-4328-fdd6-d63ef9488fcc"
      },
      "source": [
        "fig, ax = plt.subplots()\n",
        "ax.set_title(\"Países con mayor número de muertes\")\n",
        "sns.barplot(x = 'Total de muertes',\n",
        "            y = 'Pais',\n",
        "            orient = 'h',\n",
        "            data = df.sort_values(by=['Total de muertes'], ascending=False).head(5))\n",
        "plt.show()"
      ],
      "execution_count": null,
      "outputs": [
        {
          "output_type": "display_data",
          "data": {
            "image/png": "[encoded data removed]",
            "text/plain": [
              "<Figure size 432x288 with 1 Axes>"
            ]
          },
          "metadata": {
            "tags": []
          }
        }
      ]
    },
    {
      "cell_type": "markdown",
      "metadata": {
        "id": "VfeLXrJnxy3Z"
      },
      "source": [
        "Países con mayor número de muertes nuevas"
      ]
    },
    {
      "cell_type": "code",
      "metadata": {
        "colab": {
          "base_uri": "https://localhost:8080/",
          "height": 295
        },
        "id": "5Qefn-fgxUmR",
        "outputId": "2c44b96e-ffeb-4cae-80ab-8865aaad3cb4"
      },
      "source": [
        "fig, ax = plt.subplots()\n",
        "ax.set_title(\"Países con mayor número de muertes nuevas \")\n",
        "sns.barplot(x = 'Muertes nuevas',\n",
        "            y = 'Pais',\n",
        "            orient = 'h',\n",
        "            data = df.sort_values(by=['Muertes nuevas'], ascending=False).head(5))\n",
        "plt.show()"
      ],
      "execution_count": null,
      "outputs": [
        {
          "output_type": "display_data",
          "data": {
            "image/png": "[encoded data removed]",
            "text/plain": [
              "<Figure size 432x288 with 1 Axes>"
            ]
          },
          "metadata": {
            "tags": []
          }
        }
      ]
    },
    {
      "cell_type": "markdown",
      "metadata": {
        "id": "4EVZhekA__Qy"
      },
      "source": [
        "Países con mayor número de recuperados"
      ]
    },
    {
      "cell_type": "code",
      "metadata": {
        "colab": {
          "base_uri": "https://localhost:8080/",
          "height": 295
        },
        "id": "edHJ_xIa_kNu",
        "outputId": "7667d089-0f76-40b9-c295-5f3ac22a4167"
      },
      "source": [
        "fig, ax = plt.subplots()\n",
        "ax.set_title(\"Países con mayor número de recuperados\")\n",
        "sns.barplot(x = 'Recuperados',\n",
        "            y = 'Pais',\n",
        "            orient = 'h',\n",
        "            data = df.sort_values(by=['Recuperados'], ascending=False).head(5))\n",
        "plt.show()"
      ],
      "execution_count": null,
      "outputs": [
        {
          "output_type": "display_data",
          "data": {
            "image/png": "[encoded data removed]",
            "text/plain": [
              "<Figure size 432x288 with 1 Axes>"
            ]
          },
          "metadata": {
            "tags": []
          }
        }
      ]
    },
    {
      "cell_type": "markdown",
      "metadata": {
        "id": "jP8wVxeyBePq"
      },
      "source": [
        "Países con mayor número de casos activos"
      ]
    },
    {
      "cell_type": "code",
      "metadata": {
        "colab": {
          "base_uri": "https://localhost:8080/",
          "height": 295
        },
        "id": "TK1PD7VFALDG",
        "outputId": "0d7b28c3-e1ae-4dc0-b467-2941f63e8ecf"
      },
      "source": [
        "fig, ax = plt.subplots()\n",
        "ax.set_title(\"Países con mayor número de casos activos\")\n",
        "sns.barplot(x = 'Casos activos',\n",
        "            y = 'Pais',\n",
        "            orient = 'h',\n",
        "            data = df.sort_values(by=['Casos activos'], ascending=False).head(5))\n",
        "plt.show()"
      ],
      "execution_count": null,
      "outputs": [
        {
          "output_type": "display_data",
          "data": {
            "image/png": "[encoded data removed]",
            "text/plain": [
              "<Figure size 432x288 with 1 Axes>"
            ]
          },
          "metadata": {
            "tags": []
          }
        }
      ]
    },
    {
      "cell_type": "markdown",
      "metadata": {
        "id": "nb6SxRxWC5V6"
      },
      "source": [
        "Países con mayor número de casos críticos"
      ]
    },
    {
      "cell_type": "code",
      "metadata": {
        "colab": {
          "base_uri": "https://localhost:8080/",
          "height": 295
        },
        "id": "6uUAMJtKB5_L",
        "outputId": "c9378202-85a4-4176-c3b1-ae8c115750b8"
      },
      "source": [
        "fig, ax = plt.subplots()\n",
        "ax.set_title(\"Países con mayor número de casos criticos\")\n",
        "sns.barplot(x = 'Casos criticos',\n",
        "            y = 'Pais',\n",
        "            orient = 'h',\n",
        "            data = df.sort_values(by=['Casos criticos'], ascending=False).head(5))\n",
        "plt.show()"
      ],
      "execution_count": null,
      "outputs": [
        {
          "output_type": "display_data",
          "data": {
            "image/png": "[encoded data removed]",
            "text/plain": [
              "<Figure size 432x288 with 1 Axes>"
            ]
          },
          "metadata": {
            "tags": []
          }
        }
      ]
    },
    {
      "cell_type": "code",
      "metadata": {
        "id": "i6QOmTzACCV5"
      },
      "source": [
        "df.to_csv('estadísticas_a_nivel_mundial_covid_19_limpio.csv')"
      ],
      "execution_count": null,
      "outputs": []
    },
    {
      "cell_type": "code",
      "metadata": {
        "colab": {
          "base_uri": "https://localhost:8080/",
          "height": 297
        },
        "id": "NAZGw6zcbSht",
        "outputId": "6cb4a7ed-e310-48ec-c3d4-bc524aa674c2"
      },
      "source": [
        "df.describe()"
      ],
      "execution_count": null,
      "outputs": [
        {
          "output_type": "execute_result",
          "data": {
            "text/html": [
              "<div>\n",
              "<style scoped>\n",
              "    .dataframe tbody tr th:only-of-type {\n",
              "        vertical-align: middle;\n",
              "    }\n",
              "\n",
              "    .dataframe tbody tr th {\n",
              "        vertical-align: top;\n",
              "    }\n",
              "\n",
              "    .dataframe thead th {\n",
              "        text-align: right;\n",
              "    }\n",
              "</style>\n",
              "<table border=\"1\" class=\"dataframe\">\n",
              "  <thead>\n",
              "    <tr style=\"text-align: right;\">\n",
              "      <th></th>\n",
              "      <th>Total de casos</th>\n",
              "      <th>Casos nuevos</th>\n",
              "      <th>Total de muertes</th>\n",
              "      <th>Muertes nuevas</th>\n",
              "      <th>Recuperados</th>\n",
              "      <th>Casos activos</th>\n",
              "      <th>Casos criticos</th>\n",
              "    </tr>\n",
              "  </thead>\n",
              "  <tbody>\n",
              "    <tr>\n",
              "      <th>count</th>\n",
              "      <td>2.210000e+02</td>\n",
              "      <td>221.000000</td>\n",
              "      <td>221.000000</td>\n",
              "      <td>221.000000</td>\n",
              "      <td>2.210000e+02</td>\n",
              "      <td>2.210000e+02</td>\n",
              "      <td>221.000000</td>\n",
              "    </tr>\n",
              "    <tr>\n",
              "      <th>mean</th>\n",
              "      <td>5.997351e+05</td>\n",
              "      <td>493.461538</td>\n",
              "      <td>13014.434389</td>\n",
              "      <td>12.574661</td>\n",
              "      <td>4.833635e+05</td>\n",
              "      <td>1.033572e+05</td>\n",
              "      <td>446.045249</td>\n",
              "    </tr>\n",
              "    <tr>\n",
              "      <th>std</th>\n",
              "      <td>2.529182e+06</td>\n",
              "      <td>1936.591710</td>\n",
              "      <td>50354.016686</td>\n",
              "      <td>54.929873</td>\n",
              "      <td>2.027146e+06</td>\n",
              "      <td>5.686254e+05</td>\n",
              "      <td>1296.280623</td>\n",
              "    </tr>\n",
              "    <tr>\n",
              "      <th>min</th>\n",
              "      <td>1.000000e+00</td>\n",
              "      <td>0.000000</td>\n",
              "      <td>0.000000</td>\n",
              "      <td>0.000000</td>\n",
              "      <td>0.000000e+00</td>\n",
              "      <td>0.000000e+00</td>\n",
              "      <td>0.000000</td>\n",
              "    </tr>\n",
              "    <tr>\n",
              "      <th>25%</th>\n",
              "      <td>4.275000e+03</td>\n",
              "      <td>0.000000</td>\n",
              "      <td>61.000000</td>\n",
              "      <td>0.000000</td>\n",
              "      <td>2.825000e+03</td>\n",
              "      <td>2.480000e+02</td>\n",
              "      <td>0.000000</td>\n",
              "    </tr>\n",
              "    <tr>\n",
              "      <th>50%</th>\n",
              "      <td>3.693400e+04</td>\n",
              "      <td>0.000000</td>\n",
              "      <td>568.000000</td>\n",
              "      <td>0.000000</td>\n",
              "      <td>2.584100e+04</td>\n",
              "      <td>2.834000e+03</td>\n",
              "      <td>12.000000</td>\n",
              "    </tr>\n",
              "    <tr>\n",
              "      <th>75%</th>\n",
              "      <td>2.568370e+05</td>\n",
              "      <td>3.000000</td>\n",
              "      <td>4636.000000</td>\n",
              "      <td>0.000000</td>\n",
              "      <td>2.199120e+05</td>\n",
              "      <td>2.596600e+04</td>\n",
              "      <td>189.000000</td>\n",
              "    </tr>\n",
              "    <tr>\n",
              "      <th>max</th>\n",
              "      <td>3.149698e+07</td>\n",
              "      <td>17430.000000</td>\n",
              "      <td>569282.000000</td>\n",
              "      <td>430.000000</td>\n",
              "      <td>2.405856e+07</td>\n",
              "      <td>6.869132e+06</td>\n",
              "      <td>8944.000000</td>\n",
              "    </tr>\n",
              "  </tbody>\n",
              "</table>\n",
              "</div>"
            ],
            "text/plain": [
              "       Total de casos  Casos nuevos  ...  Casos activos  Casos criticos\n",
              "count    2.210000e+02    221.000000  ...   2.210000e+02      221.000000\n",
              "mean     5.997351e+05    493.461538  ...   1.033572e+05      446.045249\n",
              "std      2.529182e+06   1936.591710  ...   5.686254e+05     1296.280623\n",
              "min      1.000000e+00      0.000000  ...   0.000000e+00        0.000000\n",
              "25%      4.275000e+03      0.000000  ...   2.480000e+02        0.000000\n",
              "50%      3.693400e+04      0.000000  ...   2.834000e+03       12.000000\n",
              "75%      2.568370e+05      3.000000  ...   2.596600e+04      189.000000\n",
              "max      3.149698e+07  17430.000000  ...   6.869132e+06     8944.000000\n",
              "\n",
              "[8 rows x 7 columns]"
            ]
          },
          "metadata": {
            "tags": []
          },
          "execution_count": 24
        }
      ]
    },
    {
      "cell_type": "code",
      "metadata": {
        "colab": {
          "base_uri": "https://localhost:8080/",
          "height": 834
        },
        "id": "ItsZN32zmeuk",
        "outputId": "479fb1e0-9ecd-4743-f00c-265d60bfde4d"
      },
      "source": [
        "df.hist(bins = 30, figsize=(20,20), color = 'r');"
      ],
      "execution_count": null,
      "outputs": [
        {
          "output_type": "display_data",
          "data": {
            "image/png": "[encoded data removed]",
            "text/plain": [
              "<Figure size 1440x1440 with 9 Axes>"
            ]
          },
          "metadata": {
            "tags": [],
            "needs_background": "light"
          }
        }
      ]
    }
  ]
}
