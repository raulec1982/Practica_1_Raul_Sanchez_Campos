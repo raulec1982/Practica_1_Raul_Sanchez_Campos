{
  "nbformat": 4,
  "nbformat_minor": 0,
  "metadata": {
    "colab": {
      "name": "Practica 1.ipynb",
      "provenance": [],
      "collapsed_sections": [],
      "toc_visible": true
    },
    "kernelspec": {
      "name": "python3",
      "display_name": "Python 3"
    },
    "language_info": {
      "name": "python"
    }
  },
  "cells": [
    {
      "cell_type": "code",
      "metadata": {
        "id": "SHR2uKh4TOza"
      },
      "source": [
        "!pip install scrapy"
      ],
      "execution_count": null,
      "outputs": []
    },
    {
      "cell_type": "code",
      "metadata": {
        "id": "pyMSmLzJ0pSO"
      },
      "source": [
        "\"\"\"\n",
        "OBJETIVO: \n",
        "  - Extraer las estadísticas a nivel mundial del covid-19\n",
        "  - Practica 1 Web scraping\n",
        "CREADO POR: Raúl Sánchez Campos \n",
        "ULTIMA VEZ EDITADO: 24 MARZO 2021\n",
        "\"\"\""
      ],
      "execution_count": null,
      "outputs": []
    },
    {
      "cell_type": "code",
      "metadata": {
        "id": "6IXxnOEUTWpY"
      },
      "source": [
        "from scrapy.spiders import Spider\n",
        "from scrapy.selector import Selector\n",
        "from scrapy.loader.processors import MapCompose\n",
        "from scrapy.crawler import CrawlerProcess"
      ],
      "execution_count": null,
      "outputs": []
    },
    {
      "cell_type": "code",
      "metadata": {
        "id": "Of-HleOrUbhr"
      },
      "source": [
        "# CLASE CORE - SPIDER  \n",
        "class EstadisticaCovidSpider(Spider):\n",
        "  name = \"EstadisticaCovidSpider\"\n",
        "  custom_settings = {\n",
        "      'USER_AGENT': 'Mozilla/5.0 (X11; Linux x86_64) AppleWebKit/537.36 (KHTML, like Gecko) Ubuntu Chromium/71.0.3578.80 Chrome/71.0.3578.80 Safari/537.36',\n",
        "  }\n",
        "  start_urls = ['https://cambiopolitico.com/estadisticas-covid-19']\n",
        "\n",
        "  def parse(self, response):\n",
        "        sel = Selector(response)\n",
        "        table = sel.xpath('//*[@id=\"wpcv-table-3\"]//table//tbody//tr')\n",
        "        for row in table: \n",
        "            yield {\n",
        "                'Pais' : row.xpath('td[1]//text()').extract_first(),\n",
        "                'Total de casos': row.xpath('td[2]//text()').extract_first(),\n",
        "                'Casos nuevos' : row.xpath('td[3]//text()').extract_first(),\n",
        "                'Total de muertes' : row.xpath('td[4]//text()').extract_first(),\n",
        "                'Muertes nuevas' : row.xpath('td[5]//text()').extract_first(),\n",
        "                'Recuperados' : row.xpath('td[6]//text()').extract_first(),\n",
        "                'Casos activos' : row.xpath('td[7]//text()').extract_first(),\n",
        "                'Casos criticos' : row.xpath('td[8]//text()').extract_first(),\n",
        "            }\n",
        "       "
      ],
      "execution_count": null,
      "outputs": []
    },
    {
      "cell_type": "code",
      "metadata": {
        "id": "1Mz-wHU2WYSb"
      },
      "source": [
        "process = CrawlerProcess({\n",
        "    'FEED_FORMAT': 'csv',\n",
        "    'FEED_URI': 'covid-19.csv'\n",
        "})\n",
        "process.crawl(EstadisticaCovidSpider)\n",
        "process.start()"
      ],
      "execution_count": null,
      "outputs": []
    },
    {
      "cell_type": "code",
      "metadata": {
        "id": "sYXRaz82WkmS"
      },
      "source": [
        "import pandas as pd\n",
        "import numpy as np\n",
        "import matplotlib.pyplot as plt\n",
        "import seaborn as sns\n",
        "%matplotlib inline"
      ],
      "execution_count": null,
      "outputs": []
    },
    {
      "cell_type": "code",
      "metadata": {
        "id": "w0ps6uE1d-S3"
      },
      "source": [
        "df = pd.read_csv('covid-19.csv', encoding = 'utf8')"
      ],
      "execution_count": null,
      "outputs": []
    },
    {
      "cell_type": "code",
      "metadata": {
        "colab": {
          "base_uri": "https://localhost:8080/",
          "height": 204
        },
        "id": "oSmxsBy3ejkW",
        "outputId": "ce29f477-828c-40b9-cf3c-844ca61f7cca"
      },
      "source": [
        "df.head(5)"
      ],
      "execution_count": null,
      "outputs": [
        {
          "output_type": "execute_result",
          "data": {
            "text/html": [
              "<div>\n",
              "<style scoped>\n",
              "    .dataframe tbody tr th:only-of-type {\n",
              "        vertical-align: middle;\n",
              "    }\n",
              "\n",
              "    .dataframe tbody tr th {\n",
              "        vertical-align: top;\n",
              "    }\n",
              "\n",
              "    .dataframe thead th {\n",
              "        text-align: right;\n",
              "    }\n",
              "</style>\n",
              "<table border=\"1\" class=\"dataframe\">\n",
              "  <thead>\n",
              "    <tr style=\"text-align: right;\">\n",
              "      <th></th>\n",
              "      <th>Pais</th>\n",
              "      <th>Total de casos</th>\n",
              "      <th>Casos nuevos</th>\n",
              "      <th>Total de muertes</th>\n",
              "      <th>Muertes nuevas</th>\n",
              "      <th>Recuperados</th>\n",
              "      <th>Casos activos</th>\n",
              "      <th>Casos criticos</th>\n",
              "    </tr>\n",
              "  </thead>\n",
              "  <tbody>\n",
              "    <tr>\n",
              "      <th>0</th>\n",
              "      <td>USA</td>\n",
              "      <td>30,709,627</td>\n",
              "      <td>5,335</td>\n",
              "      <td>558,460</td>\n",
              "      <td>38</td>\n",
              "      <td>23,133,605</td>\n",
              "      <td>7,017,562</td>\n",
              "      <td>8,623</td>\n",
              "    </tr>\n",
              "    <tr>\n",
              "      <th>1</th>\n",
              "      <td>Brasil</td>\n",
              "      <td>12,227,179</td>\n",
              "      <td>-</td>\n",
              "      <td>301,087</td>\n",
              "      <td>-</td>\n",
              "      <td>10,689,646</td>\n",
              "      <td>1,236,446</td>\n",
              "      <td>8,318</td>\n",
              "    </tr>\n",
              "    <tr>\n",
              "      <th>2</th>\n",
              "      <td>India</td>\n",
              "      <td>11,794,407</td>\n",
              "      <td>7,394</td>\n",
              "      <td>160,761</td>\n",
              "      <td>35</td>\n",
              "      <td>11,232,919</td>\n",
              "      <td>400,727</td>\n",
              "      <td>8,944</td>\n",
              "    </tr>\n",
              "    <tr>\n",
              "      <th>3</th>\n",
              "      <td>Rusia</td>\n",
              "      <td>4,492,692</td>\n",
              "      <td>9,221</td>\n",
              "      <td>96,612</td>\n",
              "      <td>393</td>\n",
              "      <td>4,109,281</td>\n",
              "      <td>286,799</td>\n",
              "      <td>2,300</td>\n",
              "    </tr>\n",
              "    <tr>\n",
              "      <th>4</th>\n",
              "      <td>Francia</td>\n",
              "      <td>4,378,446</td>\n",
              "      <td>-</td>\n",
              "      <td>93,180</td>\n",
              "      <td>-</td>\n",
              "      <td>283,507</td>\n",
              "      <td>4,001,759</td>\n",
              "      <td>4,634</td>\n",
              "    </tr>\n",
              "  </tbody>\n",
              "</table>\n",
              "</div>"
            ],
            "text/plain": [
              "       Pais Total de casos  ... Casos activos Casos criticos\n",
              "0       USA     30,709,627  ...     7,017,562          8,623\n",
              "1    Brasil     12,227,179  ...     1,236,446          8,318\n",
              "2     India     11,794,407  ...       400,727          8,944\n",
              "3     Rusia      4,492,692  ...       286,799          2,300\n",
              "4   Francia      4,378,446  ...     4,001,759          4,634\n",
              "\n",
              "[5 rows x 8 columns]"
            ]
          },
          "metadata": {
            "tags": []
          },
          "execution_count": 25
        }
      ]
    },
    {
      "cell_type": "code",
      "metadata": {
        "id": "bIwluGmrrdS2"
      },
      "source": [
        "df.loc[df['Casos nuevos'] == '-', 'Casos nuevos'] = \"0\"\n",
        "df.loc[df['Muertes nuevas'] == '-', 'Muertes nuevas'] = \"0\"\n",
        "df.loc[df['Total de muertes'] == '-', 'Total de muertes'] = \"0\"\n",
        "df.loc[df['Muertes nuevas'] == '-', 'Muertes nuevas'] = \"0\"\n",
        "df.loc[df['Recuperados'] == '-', 'Recuperados'] = \"0\"\n",
        "df.loc[df['Casos activos'] == '-', 'Casos activos'] = \"0\"\n",
        "df.loc[df['Casos criticos'] == '-', 'Casos criticos'] = \"0\""
      ],
      "execution_count": null,
      "outputs": []
    },
    {
      "cell_type": "code",
      "metadata": {
        "id": "xWxlIkjWsHqE"
      },
      "source": [
        "df[\"Total de casos\"] = df[\"Total de casos\"].str.replace(\",\", \"\").astype(float)\n",
        "df[\"Casos nuevos\"] = df[\"Casos nuevos\"].str.replace(\",\", \"\").astype(float)\n",
        "df[\"Total de muertes\"] = df[\"Total de muertes\"].str.replace(\",\", \"\").astype(float)\n",
        "df[\"Muertes nuevas\"] = df[\"Muertes nuevas\"].str.replace(\",\", \"\").astype(float)\n",
        "df[\"Recuperados\"] = df[\"Recuperados\"].str.replace(\",\", \"\").astype(float)\n",
        "df[\"Casos activos\"] = df[\"Casos activos\"].str.replace(\",\", \"\").astype(float)\n",
        "df[\"Casos criticos\"] = df[\"Casos criticos\"].str.replace(\",\", \"\").astype(float)"
      ],
      "execution_count": null,
      "outputs": []
    },
    {
      "cell_type": "code",
      "metadata": {
        "colab": {
          "base_uri": "https://localhost:8080/"
        },
        "id": "4D4-Ke2XtNeV",
        "outputId": "a75988d0-1a6d-4d2f-dc24-76086336fb89"
      },
      "source": [
        "df.dtypes"
      ],
      "execution_count": null,
      "outputs": [
        {
          "output_type": "execute_result",
          "data": {
            "text/plain": [
              "Pais                 object\n",
              "Total de casos      float64\n",
              "Casos nuevos        float64\n",
              "Total de muertes    float64\n",
              "Muertes nuevas      float64\n",
              "Recuperados         float64\n",
              "Casos activos       float64\n",
              "Casos criticos      float64\n",
              "dtype: object"
            ]
          },
          "metadata": {
            "tags": []
          },
          "execution_count": 28
        }
      ]
    },
    {
      "cell_type": "markdown",
      "metadata": {
        "id": "A2IJlDNIlzO5"
      },
      "source": [
        "### Evaluación de datos faltantes"
      ]
    },
    {
      "cell_type": "markdown",
      "metadata": {
        "id": "mOFfTp1WnjV3"
      },
      "source": [
        "Los valores faltantes se convierten al valor predeterminado de Python. Utilizamos las funciones integradas de Python para identificar estos valores faltantes. Hay dos métodos para detectar datos faltantes:\n",
        "* .isnull()\n",
        "* .notnull()\n",
        "\n",
        "La salida es un valor booleano que indica si el valor que se pasa al argumento es de hecho datos faltantes."
      ]
    },
    {
      "cell_type": "code",
      "metadata": {
        "id": "JThIKNH5kDg2"
      },
      "source": [
        "missing_data = df.isnull()"
      ],
      "execution_count": null,
      "outputs": []
    },
    {
      "cell_type": "markdown",
      "metadata": {
        "id": "mzy-_B_PoNpd"
      },
      "source": [
        "\"Verdadero\" significa valor perdido, mientras que \"Falso\" significa valor no perdido"
      ]
    },
    {
      "cell_type": "code",
      "metadata": {
        "colab": {
          "base_uri": "https://localhost:8080/",
          "height": 204
        },
        "id": "w6bvjb1Unu-e",
        "outputId": "4c177fa7-eb74-4883-b92e-7f877a0757d0"
      },
      "source": [
        "missing_data.head()"
      ],
      "execution_count": null,
      "outputs": [
        {
          "output_type": "execute_result",
          "data": {
            "text/html": [
              "<div>\n",
              "<style scoped>\n",
              "    .dataframe tbody tr th:only-of-type {\n",
              "        vertical-align: middle;\n",
              "    }\n",
              "\n",
              "    .dataframe tbody tr th {\n",
              "        vertical-align: top;\n",
              "    }\n",
              "\n",
              "    .dataframe thead th {\n",
              "        text-align: right;\n",
              "    }\n",
              "</style>\n",
              "<table border=\"1\" class=\"dataframe\">\n",
              "  <thead>\n",
              "    <tr style=\"text-align: right;\">\n",
              "      <th></th>\n",
              "      <th>Pais</th>\n",
              "      <th>Total de casos</th>\n",
              "      <th>Casos nuevos</th>\n",
              "      <th>Total de muertes</th>\n",
              "      <th>Muertes nuevas</th>\n",
              "      <th>Recuperados</th>\n",
              "      <th>Casos activos</th>\n",
              "      <th>Casos criticos</th>\n",
              "    </tr>\n",
              "  </thead>\n",
              "  <tbody>\n",
              "    <tr>\n",
              "      <th>0</th>\n",
              "      <td>False</td>\n",
              "      <td>False</td>\n",
              "      <td>False</td>\n",
              "      <td>False</td>\n",
              "      <td>False</td>\n",
              "      <td>False</td>\n",
              "      <td>False</td>\n",
              "      <td>False</td>\n",
              "    </tr>\n",
              "    <tr>\n",
              "      <th>1</th>\n",
              "      <td>False</td>\n",
              "      <td>False</td>\n",
              "      <td>False</td>\n",
              "      <td>False</td>\n",
              "      <td>False</td>\n",
              "      <td>False</td>\n",
              "      <td>False</td>\n",
              "      <td>False</td>\n",
              "    </tr>\n",
              "    <tr>\n",
              "      <th>2</th>\n",
              "      <td>False</td>\n",
              "      <td>False</td>\n",
              "      <td>False</td>\n",
              "      <td>False</td>\n",
              "      <td>False</td>\n",
              "      <td>False</td>\n",
              "      <td>False</td>\n",
              "      <td>False</td>\n",
              "    </tr>\n",
              "    <tr>\n",
              "      <th>3</th>\n",
              "      <td>False</td>\n",
              "      <td>False</td>\n",
              "      <td>False</td>\n",
              "      <td>False</td>\n",
              "      <td>False</td>\n",
              "      <td>False</td>\n",
              "      <td>False</td>\n",
              "      <td>False</td>\n",
              "    </tr>\n",
              "    <tr>\n",
              "      <th>4</th>\n",
              "      <td>False</td>\n",
              "      <td>False</td>\n",
              "      <td>False</td>\n",
              "      <td>False</td>\n",
              "      <td>False</td>\n",
              "      <td>False</td>\n",
              "      <td>False</td>\n",
              "      <td>False</td>\n",
              "    </tr>\n",
              "  </tbody>\n",
              "</table>\n",
              "</div>"
            ],
            "text/plain": [
              "    Pais  Total de casos  ...  Casos activos  Casos criticos\n",
              "0  False           False  ...          False           False\n",
              "1  False           False  ...          False           False\n",
              "2  False           False  ...          False           False\n",
              "3  False           False  ...          False           False\n",
              "4  False           False  ...          False           False\n",
              "\n",
              "[5 rows x 8 columns]"
            ]
          },
          "metadata": {
            "tags": []
          },
          "execution_count": 30
        }
      ]
    },
    {
      "cell_type": "markdown",
      "metadata": {
        "id": "0fm3uv32n5oN"
      },
      "source": [
        "### Cantidad de valores faltantes por columna"
      ]
    },
    {
      "cell_type": "code",
      "metadata": {
        "colab": {
          "base_uri": "https://localhost:8080/"
        },
        "id": "KoWS7LJzksJo",
        "outputId": "32ce901e-3a72-46e2-835f-1cfe04e7e356"
      },
      "source": [
        "for column in missing_data.columns.values.tolist():\n",
        "    print(column)\n",
        "    print (missing_data[column].value_counts())\n",
        "    print(\"\") "
      ],
      "execution_count": null,
      "outputs": [
        {
          "output_type": "stream",
          "text": [
            "Pais\n",
            "False    221\n",
            "Name: Pais, dtype: int64\n",
            "\n",
            "Total de casos\n",
            "False    221\n",
            "Name: Total de casos, dtype: int64\n",
            "\n",
            "Casos nuevos\n",
            "False    221\n",
            "Name: Casos nuevos, dtype: int64\n",
            "\n",
            "Total de muertes\n",
            "False    221\n",
            "Name: Total de muertes, dtype: int64\n",
            "\n",
            "Muertes nuevas\n",
            "False    221\n",
            "Name: Muertes nuevas, dtype: int64\n",
            "\n",
            "Recuperados\n",
            "False    221\n",
            "Name: Recuperados, dtype: int64\n",
            "\n",
            "Casos activos\n",
            "False    221\n",
            "Name: Casos activos, dtype: int64\n",
            "\n",
            "Casos criticos\n",
            "False    221\n",
            "Name: Casos criticos, dtype: int64\n",
            "\n"
          ],
          "name": "stdout"
        }
      ]
    },
    {
      "cell_type": "code",
      "metadata": {
        "id": "GRZVwCtckukS",
        "colab": {
          "base_uri": "https://localhost:8080/",
          "height": 204
        },
        "outputId": "b4be95bd-92a3-45f7-f043-b8b9e6caaa42"
      },
      "source": [
        "df.head(5)"
      ],
      "execution_count": null,
      "outputs": [
        {
          "output_type": "execute_result",
          "data": {
            "text/html": [
              "<div>\n",
              "<style scoped>\n",
              "    .dataframe tbody tr th:only-of-type {\n",
              "        vertical-align: middle;\n",
              "    }\n",
              "\n",
              "    .dataframe tbody tr th {\n",
              "        vertical-align: top;\n",
              "    }\n",
              "\n",
              "    .dataframe thead th {\n",
              "        text-align: right;\n",
              "    }\n",
              "</style>\n",
              "<table border=\"1\" class=\"dataframe\">\n",
              "  <thead>\n",
              "    <tr style=\"text-align: right;\">\n",
              "      <th></th>\n",
              "      <th>Pais</th>\n",
              "      <th>Total de casos</th>\n",
              "      <th>Casos nuevos</th>\n",
              "      <th>Total de muertes</th>\n",
              "      <th>Muertes nuevas</th>\n",
              "      <th>Recuperados</th>\n",
              "      <th>Casos activos</th>\n",
              "      <th>Casos criticos</th>\n",
              "    </tr>\n",
              "  </thead>\n",
              "  <tbody>\n",
              "    <tr>\n",
              "      <th>0</th>\n",
              "      <td>USA</td>\n",
              "      <td>30709627.0</td>\n",
              "      <td>5335.0</td>\n",
              "      <td>558460.0</td>\n",
              "      <td>38.0</td>\n",
              "      <td>23133605.0</td>\n",
              "      <td>7017562.0</td>\n",
              "      <td>8623.0</td>\n",
              "    </tr>\n",
              "    <tr>\n",
              "      <th>1</th>\n",
              "      <td>Brasil</td>\n",
              "      <td>12227179.0</td>\n",
              "      <td>0.0</td>\n",
              "      <td>301087.0</td>\n",
              "      <td>0.0</td>\n",
              "      <td>10689646.0</td>\n",
              "      <td>1236446.0</td>\n",
              "      <td>8318.0</td>\n",
              "    </tr>\n",
              "    <tr>\n",
              "      <th>2</th>\n",
              "      <td>India</td>\n",
              "      <td>11794407.0</td>\n",
              "      <td>7394.0</td>\n",
              "      <td>160761.0</td>\n",
              "      <td>35.0</td>\n",
              "      <td>11232919.0</td>\n",
              "      <td>400727.0</td>\n",
              "      <td>8944.0</td>\n",
              "    </tr>\n",
              "    <tr>\n",
              "      <th>3</th>\n",
              "      <td>Rusia</td>\n",
              "      <td>4492692.0</td>\n",
              "      <td>9221.0</td>\n",
              "      <td>96612.0</td>\n",
              "      <td>393.0</td>\n",
              "      <td>4109281.0</td>\n",
              "      <td>286799.0</td>\n",
              "      <td>2300.0</td>\n",
              "    </tr>\n",
              "    <tr>\n",
              "      <th>4</th>\n",
              "      <td>Francia</td>\n",
              "      <td>4378446.0</td>\n",
              "      <td>0.0</td>\n",
              "      <td>93180.0</td>\n",
              "      <td>0.0</td>\n",
              "      <td>283507.0</td>\n",
              "      <td>4001759.0</td>\n",
              "      <td>4634.0</td>\n",
              "    </tr>\n",
              "  </tbody>\n",
              "</table>\n",
              "</div>"
            ],
            "text/plain": [
              "       Pais  Total de casos  ...  Casos activos  Casos criticos\n",
              "0       USA      30709627.0  ...      7017562.0          8623.0\n",
              "1    Brasil      12227179.0  ...      1236446.0          8318.0\n",
              "2     India      11794407.0  ...       400727.0          8944.0\n",
              "3     Rusia       4492692.0  ...       286799.0          2300.0\n",
              "4   Francia       4378446.0  ...      4001759.0          4634.0\n",
              "\n",
              "[5 rows x 8 columns]"
            ]
          },
          "metadata": {
            "tags": []
          },
          "execution_count": 32
        }
      ]
    },
    {
      "cell_type": "markdown",
      "metadata": {
        "id": "rMd5jj-J8YiU"
      },
      "source": [
        "### Visualización y análisis descriptivo de datos"
      ]
    },
    {
      "cell_type": "markdown",
      "metadata": {
        "id": "4Ucvb5u4xHFo"
      },
      "source": [
        "Países con mayor número de casos"
      ]
    },
    {
      "cell_type": "code",
      "metadata": {
        "colab": {
          "base_uri": "https://localhost:8080/",
          "height": 295
        },
        "id": "LfJruvH7wjsk",
        "outputId": "dd9cebf2-1a02-49a5-b4b6-1151e66c0f79"
      },
      "source": [
        "fig, ax = plt.subplots()\n",
        "ax.set_title(\"Países con mayor número de casos\")\n",
        "sns.barplot(x = 'Total de casos',\n",
        "            y = 'Pais',\n",
        "            orient = 'h',\n",
        "            data = df.sort_values(by=['Total de casos'], ascending=False).head(5))\n",
        "plt.show()"
      ],
      "execution_count": null,
      "outputs": [
        {
          "output_type": "display_data",
          "data": {
            "image/png": "[encoded data removed]",
            "text/plain": [
              "<Figure size 432x288 with 1 Axes>"
            ]
          },
          "metadata": {
            "tags": [],
            "needs_background": "light"
          }
        }
      ]
    },
    {
      "cell_type": "markdown",
      "metadata": {
        "id": "Z4k-Ru5B9EDC"
      },
      "source": [
        "Países con mayor número de casos nuevos"
      ]
    },
    {
      "cell_type": "code",
      "metadata": {
        "colab": {
          "base_uri": "https://localhost:8080/",
          "height": 295
        },
        "id": "dyctk2Qd_bOz",
        "outputId": "2ee23419-ade9-47c5-bf60-75260a235f10"
      },
      "source": [
        "fig, ax = plt.subplots()\n",
        "ax.set_title(\"Países con mayor número de casos nuevo\")\n",
        "sns.barplot(x = 'Casos nuevos',\n",
        "            y = 'Pais',\n",
        "            orient = 'h',\n",
        "            data = df.sort_values(by=['Casos nuevos'], ascending=False).head(5))\n",
        "plt.show()"
      ],
      "execution_count": null,
      "outputs": [
        {
          "output_type": "display_data",
          "data": {
            "image/png": "[encoded data removed]",
            "text/plain": [
              "<Figure size 432x288 with 1 Axes>"
            ]
          },
          "metadata": {
            "tags": [],
            "needs_background": "light"
          }
        }
      ]
    },
    {
      "cell_type": "markdown",
      "metadata": {
        "id": "4r44RGRf9LMS"
      },
      "source": [
        "Países con mayor número de número de muertes"
      ]
    },
    {
      "cell_type": "code",
      "metadata": {
        "colab": {
          "base_uri": "https://localhost:8080/",
          "height": 295
        },
        "id": "SiIicP4xygEv",
        "outputId": "e841cc9b-fec7-47a0-bb5a-1cff42035231"
      },
      "source": [
        "fig, ax = plt.subplots()\n",
        "ax.set_title(\"Países con mayor número de muertes\")\n",
        "sns.barplot(x = 'Total de muertes',\n",
        "            y = 'Pais',\n",
        "            orient = 'h',\n",
        "            data = df.sort_values(by=['Total de muertes'], ascending=False).head(5))\n",
        "plt.show()"
      ],
      "execution_count": null,
      "outputs": [
        {
          "output_type": "display_data",
          "data": {
            "image/png": "[encoded data removed]",
            "text/plain": [
              "<Figure size 432x288 with 1 Axes>"
            ]
          },
          "metadata": {
            "tags": [],
            "needs_background": "light"
          }
        }
      ]
    },
    {
      "cell_type": "markdown",
      "metadata": {
        "id": "VfeLXrJnxy3Z"
      },
      "source": [
        "Países con mayor número de muertes nuevas"
      ]
    },
    {
      "cell_type": "code",
      "metadata": {
        "colab": {
          "base_uri": "https://localhost:8080/",
          "height": 295
        },
        "id": "5Qefn-fgxUmR",
        "outputId": "45fe48d3-1c0c-4367-a720-1a1c2ceb9e81"
      },
      "source": [
        "fig, ax = plt.subplots()\n",
        "ax.set_title(\"Países con mayor número de muertes nuevas\")\n",
        "sns.barplot(x = 'Muertes nuevas',\n",
        "            y = 'Pais',\n",
        "            orient = 'h',\n",
        "            data = df.sort_values(by=['Muertes nuevas'], ascending=False).head(5))\n",
        "plt.show()"
      ],
      "execution_count": null,
      "outputs": [
        {
          "output_type": "display_data",
          "data": {
            "image/png": "[encoded data removed]",
            "text/plain": [
              "<Figure size 432x288 with 1 Axes>"
            ]
          },
          "metadata": {
            "tags": [],
            "needs_background": "light"
          }
        }
      ]
    },
    {
      "cell_type": "markdown",
      "metadata": {
        "id": "4EVZhekA__Qy"
      },
      "source": [
        "Países con mayor número de recuperados"
      ]
    },
    {
      "cell_type": "code",
      "metadata": {
        "colab": {
          "base_uri": "https://localhost:8080/",
          "height": 295
        },
        "id": "edHJ_xIa_kNu",
        "outputId": "47bb9f95-691f-4da1-bfb5-32d21a8e0de2"
      },
      "source": [
        "fig, ax = plt.subplots()\n",
        "ax.set_title(\"Países con mayor número de recuperados\")\n",
        "sns.barplot(x = 'Recuperados',\n",
        "            y = 'Pais',\n",
        "            orient = 'h',\n",
        "            data = df.sort_values(by=['Recuperados'], ascending=False).head(5))\n",
        "plt.show()"
      ],
      "execution_count": null,
      "outputs": [
        {
          "output_type": "display_data",
          "data": {
            "image/png": "[encoded data removed]",
            "text/plain": [
              "<Figure size 432x288 with 1 Axes>"
            ]
          },
          "metadata": {
            "tags": [],
            "needs_background": "light"
          }
        }
      ]
    },
    {
      "cell_type": "markdown",
      "metadata": {
        "id": "jP8wVxeyBePq"
      },
      "source": [
        "Países con mayor número de casos activos"
      ]
    },
    {
      "cell_type": "code",
      "metadata": {
        "colab": {
          "base_uri": "https://localhost:8080/",
          "height": 295
        },
        "id": "TK1PD7VFALDG",
        "outputId": "5f5fe434-f26f-4877-b5e5-c3d043a40718"
      },
      "source": [
        "fig, ax = plt.subplots()\n",
        "ax.set_title(\"Países con mayor número de casos activos\")\n",
        "sns.barplot(x = 'Casos activos',\n",
        "            y = 'Pais',\n",
        "            orient = 'h',\n",
        "            data = df.sort_values(by=['Casos activos'], ascending=False).head(5))\n",
        "plt.show()"
      ],
      "execution_count": null,
      "outputs": [
        {
          "output_type": "display_data",
          "data": {
            "image/png": "[encoded data removed]",
            "text/plain": [
              "<Figure size 432x288 with 1 Axes>"
            ]
          },
          "metadata": {
            "tags": [],
            "needs_background": "light"
          }
        }
      ]
    },
    {
      "cell_type": "markdown",
      "metadata": {
        "id": "nb6SxRxWC5V6"
      },
      "source": [
        "Países con mayor número de casos críticos"
      ]
    },
    {
      "cell_type": "code",
      "metadata": {
        "colab": {
          "base_uri": "https://localhost:8080/",
          "height": 295
        },
        "id": "6uUAMJtKB5_L",
        "outputId": "c81cf3cc-b492-4978-dcec-0484c9ead9ca"
      },
      "source": [
        "fig, ax = plt.subplots()\n",
        "ax.set_title(\"Países con mayor número de casos criticos\")\n",
        "sns.barplot(x = 'Casos criticos',\n",
        "            y = 'Pais',\n",
        "            orient = 'h',\n",
        "            data = df.sort_values(by=['Casos criticos'], ascending=False).head(5))\n",
        "plt.show()"
      ],
      "execution_count": null,
      "outputs": [
        {
          "output_type": "display_data",
          "data": {
            "image/png": "[encoded data removed]",
            "text/plain": [
              "<Figure size 432x288 with 1 Axes>"
            ]
          },
          "metadata": {
            "tags": [],
            "needs_background": "light"
          }
        }
      ]
    }
  ]
}